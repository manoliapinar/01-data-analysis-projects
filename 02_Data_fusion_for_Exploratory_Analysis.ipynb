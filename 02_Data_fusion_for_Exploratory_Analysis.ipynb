{
  "nbformat": 4,
  "nbformat_minor": 0,
  "metadata": {
    "colab": {
      "provenance": [],
      "authorship_tag": "ABX9TyO37L3wzzqzpKE0DLhu+5pJ",
      "include_colab_link": true
    },
    "kernelspec": {
      "name": "python3",
      "display_name": "Python 3"
    },
    "language_info": {
      "name": "python"
    }
  },
  "cells": [
    {
      "cell_type": "markdown",
      "metadata": {
        "id": "view-in-github",
        "colab_type": "text"
      },
      "source": [
        "<a href=\"https://colab.research.google.com/github/manoliapinar/data-analysis-projects/blob/main/02_Data_fusion_for_Exploratory_Analysis.ipynb\" target=\"_parent\"><img src=\"https://colab.research.google.com/assets/colab-badge.svg\" alt=\"Open In Colab\"/></a>"
      ]
    },
    {
      "cell_type": "code",
      "execution_count": null,
      "metadata": {
        "colab": {
          "base_uri": "https://localhost:8080/"
        },
        "id": "fvfDYsGhM5lr",
        "outputId": "88504f16-cf24-4f57-e958-ec28327b7b90"
      },
      "outputs": [
        {
          "output_type": "stream",
          "name": "stdout",
          "text": [
            "Drive already mounted at /content/drive; to attempt to forcibly remount, call drive.mount(\"/content/drive\", force_remount=True).\n",
            "Données Météo :\n",
            "         time  tavg  tmin  tmax  prcp  snow   wdir  wspd    pres airport_id\n",
            "0  2023-01-01   8.1   2.2  11.7   0.0   0.0  278.0   9.7  1013.8        ABE\n",
            "1  2023-01-02   5.4   0.0  11.7   0.0   0.0  353.0   3.6  1019.6        ABE\n",
            "2  2023-01-03   8.4   7.2   9.4  15.2   0.0   50.0   5.0  1013.9        ABE\n",
            "3  2023-01-04  11.1   6.7  17.2   0.0   0.0  302.0   4.7  1009.8        ABE\n",
            "4  2023-01-05  12.7   6.7  14.4   7.9   0.0  292.0   7.2  1013.0        ABE\n",
            "\n",
            "Données Vols Annulés et Détournés :\n",
            "   FlightDate  Day_Of_Week       Airline Tail_Number  Cancelled  Diverted  \\\n",
            "0  2023-01-25            3  Endeavor Air      N691CA        1.0       0.0   \n",
            "1  2023-01-03            2  Endeavor Air      N937XJ        1.0       0.0   \n",
            "2  2023-01-03            2  Endeavor Air      N937XJ        1.0       0.0   \n",
            "3  2023-01-11            3  Endeavor Air      N926XJ        1.0       0.0   \n",
            "4  2023-01-25            3  Endeavor Air      N335PQ        0.0       1.0   \n",
            "\n",
            "  Dep_Airport     Dep_CityName DepTime_label  Dep_Delay  ...  \\\n",
            "0         JFK     New York, NY       Evening        0.0  ...   \n",
            "1         MSP  Minneapolis, MN       Morning        0.0  ...   \n",
            "2         PIT   Pittsburgh, PA     Afternoon        0.0  ...   \n",
            "3         BWI    Baltimore, MD     Afternoon        0.0  ...   \n",
            "4         BWI    Baltimore, MD     Afternoon        2.0  ...   \n",
            "\n",
            "          Arr_CityName Arr_Delay    Arr_Delay_Type Flight_Duration  \\\n",
            "0  Ithaca/Cortland, NY       0.0  No Arrival Delay             0.0   \n",
            "1       Pittsburgh, PA       0.0  No Arrival Delay             0.0   \n",
            "2      Minneapolis, MN       0.0  No Arrival Delay             0.0   \n",
            "3         New York, NY       0.0  No Arrival Delay             0.0   \n",
            "4         New York, NY       0.0  No Arrival Delay             0.0   \n",
            "\n",
            "   Distance_type Delay_Carrier  Delay_Weather Delay_NAS  Delay_Security  \\\n",
            "0     Short Haul           0.0            0.0       0.0             0.0   \n",
            "1     Short Haul           0.0            0.0       0.0             0.0   \n",
            "2     Short Haul           0.0            0.0       0.0             0.0   \n",
            "3     Short Haul           0.0            0.0       0.0             0.0   \n",
            "4     Short Haul           0.0            0.0       0.0             0.0   \n",
            "\n",
            "   Delay_LastAircraft  \n",
            "0                 0.0  \n",
            "1                 0.0  \n",
            "2                 0.0  \n",
            "3                 0.0  \n",
            "4                 0.0  \n",
            "\n",
            "[5 rows x 23 columns]\n"
          ]
        }
      ],
      "source": [
        "import pandas as pd\n",
        "\n",
        "from google.colab import drive\n",
        "\n",
        "drive.mount('/content/drive')\n",
        "weather_data = pd.read_csv('/content/drive/My Drive/project-data-analysis/dataset/weather_meteo_by_airport.csv')\n",
        "cancelled_data = pd.read_csv('/content/drive/My Drive/project-data-analysis/dataset/cancelled_diverted_2023.csv')\n",
        "\n",
        "print(\"Données Météo :\")\n",
        "print(weather_data.head())\n",
        "print(\"\\nDonnées Vols Annulés et Détournés :\")\n",
        "print(cancelled_data.head())\n"
      ]
    },
    {
      "cell_type": "code",
      "source": [],
      "metadata": {
        "id": "DHRIxtmvNKA_"
      },
      "execution_count": null,
      "outputs": []
    }
  ]
}