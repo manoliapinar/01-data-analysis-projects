{
  "nbformat": 4,
  "nbformat_minor": 0,
  "metadata": {
    "colab": {
      "provenance": [],
      "authorship_tag": "ABX9TyMMC228eyvuScz56DHRi3b9",
      "include_colab_link": true
    },
    "kernelspec": {
      "name": "python3",
      "display_name": "Python 3"
    },
    "language_info": {
      "name": "python"
    }
  },
  "cells": [
    {
      "cell_type": "markdown",
      "metadata": {
        "id": "view-in-github",
        "colab_type": "text"
      },
      "source": [
        "<a href=\"https://colab.research.google.com/github/manoliapinar/data-analysis-projects/blob/main/01_Data_Cleaning.ipynb\" target=\"_parent\"><img src=\"https://colab.research.google.com/assets/colab-badge.svg\" alt=\"Open In Colab\"/></a>"
      ]
    },
    {
      "cell_type": "code",
      "execution_count": null,
      "metadata": {
        "colab": {
          "base_uri": "https://localhost:8080/"
        },
        "id": "L0Cob8FHUiKA",
        "outputId": "ccc66cfa-3ade-4c12-bee9-aeb97a01335f"
      },
      "outputs": [
        {
          "output_type": "stream",
          "name": "stdout",
          "text": [
            "Mounted at /content/drive\n"
          ]
        }
      ],
      "source": [
        "from google.colab import drive\n",
        "\n",
        "# Monter votre Google Drive\n",
        "drive.mount('/content/drive')"
      ]
    },
    {
      "cell_type": "code",
      "source": [
        "import pandas as pd\n",
        "\n",
        "# Charger les fichiers CSV depuis Google Drive\n",
        "airports_geolocation = '/content/drive/My Drive/project-data-analysis/dataset/airports_geolocation.csv'\n",
        "cancelled_diverted_2023 = '/content/drive/My Drive/project-data-analysis/dataset/cancelled_diverted_2023.csv'\n",
        "weather_meteo_by_airport = '/content/drive/My Drive/project-data-analysis/dataset/weather_meteo_by_airport.csv'"
      ],
      "metadata": {
        "id": "kiyskxyXUvj2"
      },
      "execution_count": 34,
      "outputs": []
    },
    {
      "cell_type": "code",
      "source": [
        "# Afficher les premières lignes du DataFrame\n",
        "print(df.head())"
      ],
      "metadata": {
        "colab": {
          "base_uri": "https://localhost:8080/"
        },
        "id": "mBpnLaaWXBTk",
        "outputId": "03dc3abc-1f76-40c2-bc0f-26e75dcbc502"
      },
      "execution_count": 38,
      "outputs": [
        {
          "output_type": "stream",
          "name": "stdout",
          "text": [
            "         time  tavg  tmin  tmax  prcp  snow   wdir  wspd    pres airport_id\n",
            "0  2023-01-01   8.1   2.2  11.7   0.0   0.0  278.0   9.7  1013.8        ABE\n",
            "1  2023-01-02   5.4   0.0  11.7   0.0   0.0  353.0   3.6  1019.6        ABE\n",
            "2  2023-01-03   8.4   7.2   9.4  15.2   0.0   50.0   5.0  1013.9        ABE\n",
            "3  2023-01-04  11.1   6.7  17.2   0.0   0.0  302.0   4.7  1009.8        ABE\n",
            "4  2023-01-05  12.7   6.7  14.4   7.9   0.0  292.0   7.2  1013.0        ABE\n"
          ]
        }
      ]
    },
    {
      "cell_type": "code",
      "source": [
        "print(type(airports_geolocation))\n",
        "print(type(cancelled_diverted_2023))\n",
        "print(type(weather_meteo_by_airport))"
      ],
      "metadata": {
        "colab": {
          "base_uri": "https://localhost:8080/"
        },
        "id": "eLE0ApMm2UNn",
        "outputId": "99e20c3e-6f62-4afc-9f53-9c2df3e20efc"
      },
      "execution_count": 47,
      "outputs": [
        {
          "output_type": "stream",
          "name": "stdout",
          "text": [
            "<class 'pandas.core.frame.DataFrame'>\n",
            "<class 'pandas.core.frame.DataFrame'>\n",
            "<class 'pandas.core.frame.DataFrame'>\n"
          ]
        }
      ]
    },
    {
      "cell_type": "code",
      "source": [
        "import pandas as pd\n",
        "import numpy as np\n",
        "from google.colab import drive\n",
        "\n",
        "# Chemins vers les fichiers\n",
        "airports_geolocation = pd.read_csv('/content/drive/My Drive/project-data-analysis/dataset/airports_geolocation.csv')\n",
        "cancelled_diverted_2023 = pd.read_csv('/content/drive/My Drive/project-data-analysis/dataset/cancelled_diverted_2023.csv')\n",
        "weather_meteo_by_airport = pd.read_csv('/content/drive/My Drive/project-data-analysis/dataset/weather_meteo_by_airport.csv')"
      ],
      "metadata": {
        "id": "13OD8SVZYveY"
      },
      "execution_count": 57,
      "outputs": []
    },
    {
      "cell_type": "code",
      "source": [
        "import pandas as pd\n",
        "import numpy as np\n",
        "from google.colab import drive\n",
        "\n",
        "# Chemins vers les fichiers\n",
        "airports_geolocation = pd.read_csv('/content/drive/My Drive/project-data-analysis/dataset/airports_geolocation.csv')\n",
        "cancelled_diverted_2023 = pd.read_csv('/content/drive/My Drive/project-data-analysis/dataset/cancelled_diverted_2023.csv')\n",
        "weather_meteo_by_airport = pd.read_csv('/content/drive/My Drive/project-data-analysis/dataset/weather_meteo_by_airport.csv')\n",
        "\n",
        "# Définir le chemin vers le fichier\n",
        "airports_geolocation_path = '/content/drive/My Drive/project-data-analysis/dataset/airports_geolocation.csv'\n",
        "cancelled_diverted_2O24_path = '/content/drive/My Drive/project-data-analysis/dataset/cancelled_diverted_2023.csv'\n",
        "weather_meteo_by_airport_path = '/content/drive/My Drive/project-data-analysis/dataset/weather_meteo_by_airport.csv'\n"
      ],
      "metadata": {
        "id": "pX4zpftI0xBB"
      },
      "execution_count": 63,
      "outputs": []
    },
    {
      "cell_type": "code",
      "source": [
        "# Charger le dataset\n",
        "try:\n",
        "    airports_geolocation = pd.read_csv(airports_geolocation_path)\n",
        "    print(\"Données de géolocalisation des aéroports chargées avec succès.\")\n",
        "except Exception as e:\n",
        "    print(f\"Erreur lors du chargement de airports_geolocation : {e}\")\n",
        "\n",
        "# Afficher les premières lignes\n",
        "if isinstance(airports_geolocation, pd.DataFrame):\n",
        "    print(airports_geolocation.head())\n",
        "else:\n",
        "    print(\"Le chargement a échoué, airports_geolocation n'est pas un DataFrame.\")"
      ],
      "metadata": {
        "colab": {
          "base_uri": "https://localhost:8080/"
        },
        "id": "-ztmfItj3w5h",
        "outputId": "5dd61fe8-aeb0-44b8-e443-9c3b7992da06"
      },
      "execution_count": 64,
      "outputs": [
        {
          "output_type": "stream",
          "name": "stdout",
          "text": [
            "Données de géolocalisation des aéroports chargées avec succès.\n",
            "  IATA_CODE                              AIRPORT         CITY STATE COUNTRY  \\\n",
            "0       ABE  Lehigh Valley International Airport    Allentown    PA     USA   \n",
            "1       ABI             Abilene Regional Airport      Abilene    TX     USA   \n",
            "2       ABQ    Albuquerque International Sunport  Albuquerque    NM     USA   \n",
            "3       ABR            Aberdeen Regional Airport     Aberdeen    SD     USA   \n",
            "4       ABY   Southwest Georgia Regional Airport       Albany    GA     USA   \n",
            "\n",
            "   LATITUDE  LONGITUDE  \n",
            "0  40.65236  -75.44040  \n",
            "1  32.41132  -99.68190  \n",
            "2  35.04022 -106.60919  \n",
            "3  45.44906  -98.42183  \n",
            "4  31.53552  -84.19447  \n"
          ]
        }
      ]
    },
    {
      "cell_type": "code",
      "source": [
        "import os\n",
        "\n",
        "# Lister les fichiers dans le dossier data\n",
        "dataset_folder_path = '/content/drive/My Drive/project-data-analysis/dataset'\n",
        "print(os.listdir(dataset_folder_path))"
      ],
      "metadata": {
        "colab": {
          "base_uri": "https://localhost:8080/"
        },
        "id": "3OmSIRG743sL",
        "outputId": "00255bfc-8d4e-4e7a-a28b-17038a86faea"
      },
      "execution_count": 69,
      "outputs": [
        {
          "output_type": "stream",
          "name": "stdout",
          "text": [
            "['airports_geolocation.csv', 'cancelled_diverted_2023.csv', 'weather_meteo_by_airport.csv']\n"
          ]
        }
      ]
    },
    {
      "cell_type": "code",
      "source": [
        "if 'airports_geolocation' in locals() and airports_geolocation is not None:\n",
        "    print(\"Géolocalisation des aéroports :\")\n",
        "    print(airports_geolocation.head())\n",
        "    print(\"\\nInfos Géolocalisation :\")\n",
        "    print(airports_geolocation.info())\n",
        "else:\n",
        "    print(\"Erreur : airports_geolocation n'a pas été chargé.\")\n",
        "\n",
        "if 'cancelled_diverted_2023' in locals() and cancelled_diverted_2023 is not None:\n",
        "    print(\"\\nVols annulés et détournés :\")\n",
        "    print(cancelled_diverted_2023.head())\n",
        "    print(\"\\nInfos Vols annulés/détournés :\")\n",
        "    print(cancelled_diverted_2023.info())\n",
        "else:\n",
        "    print(\"Erreur : cancelled_diverted n'a pas été chargé.\")\n",
        "\n",
        "if 'weather_meteo_by_airport' in locals() and weather_meteo_by_airport is not None:\n",
        "    print(\"\\nDonnées météorologiques par aéroport :\")\n",
        "    print(weather_meteo_by_airport.head())\n",
        "    print(\"\\nInfos Météo :\")\n",
        "    print(weather_meteo_by_airport.info())\n",
        "else:\n",
        "    print(\"Erreur : weather_meteo_by_airport n'a pas été chargé.\")"
      ],
      "metadata": {
        "colab": {
          "base_uri": "https://localhost:8080/"
        },
        "id": "4akCG3VS5A_R",
        "outputId": "d57a5c15-602c-452b-b138-22cb7a46fdaa"
      },
      "execution_count": 72,
      "outputs": [
        {
          "output_type": "stream",
          "name": "stdout",
          "text": [
            "Géolocalisation des aéroports :\n",
            "  IATA_CODE                              AIRPORT         CITY STATE COUNTRY  \\\n",
            "0       ABE  Lehigh Valley International Airport    Allentown    PA     USA   \n",
            "1       ABI             Abilene Regional Airport      Abilene    TX     USA   \n",
            "2       ABQ    Albuquerque International Sunport  Albuquerque    NM     USA   \n",
            "3       ABR            Aberdeen Regional Airport     Aberdeen    SD     USA   \n",
            "4       ABY   Southwest Georgia Regional Airport       Albany    GA     USA   \n",
            "\n",
            "   LATITUDE  LONGITUDE  \n",
            "0  40.65236  -75.44040  \n",
            "1  32.41132  -99.68190  \n",
            "2  35.04022 -106.60919  \n",
            "3  45.44906  -98.42183  \n",
            "4  31.53552  -84.19447  \n",
            "\n",
            "Infos Géolocalisation :\n",
            "<class 'pandas.core.frame.DataFrame'>\n",
            "RangeIndex: 364 entries, 0 to 363\n",
            "Data columns (total 7 columns):\n",
            " #   Column     Non-Null Count  Dtype  \n",
            "---  ------     --------------  -----  \n",
            " 0   IATA_CODE  364 non-null    object \n",
            " 1   AIRPORT    364 non-null    object \n",
            " 2   CITY       364 non-null    object \n",
            " 3   STATE      364 non-null    object \n",
            " 4   COUNTRY    364 non-null    object \n",
            " 5   LATITUDE   364 non-null    float64\n",
            " 6   LONGITUDE  364 non-null    float64\n",
            "dtypes: float64(2), object(5)\n",
            "memory usage: 20.0+ KB\n",
            "None\n",
            "\n",
            "Vols annulés et détournés :\n",
            "   FlightDate  Day_Of_Week       Airline Tail_Number  Cancelled  Diverted  \\\n",
            "0  2023-01-25            3  Endeavor Air      N691CA        1.0       0.0   \n",
            "1  2023-01-03            2  Endeavor Air      N937XJ        1.0       0.0   \n",
            "2  2023-01-03            2  Endeavor Air      N937XJ        1.0       0.0   \n",
            "3  2023-01-11            3  Endeavor Air      N926XJ        1.0       0.0   \n",
            "4  2023-01-25            3  Endeavor Air      N335PQ        0.0       1.0   \n",
            "\n",
            "  Dep_Airport     Dep_CityName DepTime_label  Dep_Delay  ...  \\\n",
            "0         JFK     New York, NY       Evening        0.0  ...   \n",
            "1         MSP  Minneapolis, MN       Morning        0.0  ...   \n",
            "2         PIT   Pittsburgh, PA     Afternoon        0.0  ...   \n",
            "3         BWI    Baltimore, MD     Afternoon        0.0  ...   \n",
            "4         BWI    Baltimore, MD     Afternoon        2.0  ...   \n",
            "\n",
            "          Arr_CityName Arr_Delay    Arr_Delay_Type Flight_Duration  \\\n",
            "0  Ithaca/Cortland, NY       0.0  No Arrival Delay             0.0   \n",
            "1       Pittsburgh, PA       0.0  No Arrival Delay             0.0   \n",
            "2      Minneapolis, MN       0.0  No Arrival Delay             0.0   \n",
            "3         New York, NY       0.0  No Arrival Delay             0.0   \n",
            "4         New York, NY       0.0  No Arrival Delay             0.0   \n",
            "\n",
            "   Distance_type Delay_Carrier  Delay_Weather Delay_NAS  Delay_Security  \\\n",
            "0     Short Haul           0.0            0.0       0.0             0.0   \n",
            "1     Short Haul           0.0            0.0       0.0             0.0   \n",
            "2     Short Haul           0.0            0.0       0.0             0.0   \n",
            "3     Short Haul           0.0            0.0       0.0             0.0   \n",
            "4     Short Haul           0.0            0.0       0.0             0.0   \n",
            "\n",
            "   Delay_LastAircraft  \n",
            "0                 0.0  \n",
            "1                 0.0  \n",
            "2                 0.0  \n",
            "3                 0.0  \n",
            "4                 0.0  \n",
            "\n",
            "[5 rows x 23 columns]\n",
            "\n",
            "Infos Vols annulés/détournés :\n",
            "<class 'pandas.core.frame.DataFrame'>\n",
            "RangeIndex: 104488 entries, 0 to 104487\n",
            "Data columns (total 23 columns):\n",
            " #   Column              Non-Null Count   Dtype  \n",
            "---  ------              --------------   -----  \n",
            " 0   FlightDate          104488 non-null  object \n",
            " 1   Day_Of_Week         104488 non-null  int64  \n",
            " 2   Airline             104488 non-null  object \n",
            " 3   Tail_Number         104488 non-null  object \n",
            " 4   Cancelled           104488 non-null  float64\n",
            " 5   Diverted            104488 non-null  float64\n",
            " 6   Dep_Airport         104488 non-null  object \n",
            " 7   Dep_CityName        104488 non-null  object \n",
            " 8   DepTime_label       104488 non-null  object \n",
            " 9   Dep_Delay           104488 non-null  float64\n",
            " 10  Dep_Delay_Tag       104488 non-null  int64  \n",
            " 11  Dep_Delay_Type      104488 non-null  object \n",
            " 12  Arr_Airport         104488 non-null  object \n",
            " 13  Arr_CityName        104488 non-null  object \n",
            " 14  Arr_Delay           104488 non-null  float64\n",
            " 15  Arr_Delay_Type      104488 non-null  object \n",
            " 16  Flight_Duration     104488 non-null  float64\n",
            " 17  Distance_type       104488 non-null  object \n",
            " 18  Delay_Carrier       104488 non-null  float64\n",
            " 19  Delay_Weather       104488 non-null  float64\n",
            " 20  Delay_NAS           104488 non-null  float64\n",
            " 21  Delay_Security      104488 non-null  float64\n",
            " 22  Delay_LastAircraft  104488 non-null  float64\n",
            "dtypes: float64(10), int64(2), object(11)\n",
            "memory usage: 18.3+ MB\n",
            "None\n",
            "\n",
            "Données météorologiques par aéroport :\n",
            "         time  tavg  tmin  tmax  prcp  snow   wdir  wspd    pres airport_id\n",
            "0  2023-01-01   8.1   2.2  11.7   0.0   0.0  278.0   9.7  1013.8        ABE\n",
            "1  2023-01-02   5.4   0.0  11.7   0.0   0.0  353.0   3.6  1019.6        ABE\n",
            "2  2023-01-03   8.4   7.2   9.4  15.2   0.0   50.0   5.0  1013.9        ABE\n",
            "3  2023-01-04  11.1   6.7  17.2   0.0   0.0  302.0   4.7  1009.8        ABE\n",
            "4  2023-01-05  12.7   6.7  14.4   7.9   0.0  292.0   7.2  1013.0        ABE\n",
            "\n",
            "Infos Météo :\n",
            "<class 'pandas.core.frame.DataFrame'>\n",
            "RangeIndex: 132860 entries, 0 to 132859\n",
            "Data columns (total 10 columns):\n",
            " #   Column      Non-Null Count   Dtype  \n",
            "---  ------      --------------   -----  \n",
            " 0   time        132860 non-null  object \n",
            " 1   tavg        132860 non-null  float64\n",
            " 2   tmin        132860 non-null  float64\n",
            " 3   tmax        132860 non-null  float64\n",
            " 4   prcp        132860 non-null  float64\n",
            " 5   snow        132860 non-null  float64\n",
            " 6   wdir        132860 non-null  float64\n",
            " 7   wspd        132860 non-null  float64\n",
            " 8   pres        132860 non-null  float64\n",
            " 9   airport_id  132860 non-null  object \n",
            "dtypes: float64(8), object(2)\n",
            "memory usage: 10.1+ MB\n",
            "None\n"
          ]
        }
      ]
    },
    {
      "cell_type": "code",
      "source": [
        "# Valeurs manquantes\n",
        "print(\"Valeurs manquantes - Géolocalisation :\")\n",
        "print(airports_geolocation.isnull().sum())\n",
        "\n",
        "print(\"\\nValeurs manquantes - Vols annulés/détournés :\")\n",
        "print(cancelled_diverted_2023.isnull().sum())\n",
        "\n",
        "print(\"\\nValeurs manquantes - Météo :\")\n",
        "print(weather_meteo_by_airport.isnull().sum())"
      ],
      "metadata": {
        "colab": {
          "base_uri": "https://localhost:8080/"
        },
        "id": "gLyynQki52_y",
        "outputId": "993edc2f-4f3e-4916-f186-a99ead36ff65"
      },
      "execution_count": 73,
      "outputs": [
        {
          "output_type": "stream",
          "name": "stdout",
          "text": [
            "Valeurs manquantes - Géolocalisation :\n",
            "IATA_CODE    0\n",
            "AIRPORT      0\n",
            "CITY         0\n",
            "STATE        0\n",
            "COUNTRY      0\n",
            "LATITUDE     0\n",
            "LONGITUDE    0\n",
            "dtype: int64\n",
            "\n",
            "Valeurs manquantes - Vols annulés/détournés :\n",
            "FlightDate            0\n",
            "Day_Of_Week           0\n",
            "Airline               0\n",
            "Tail_Number           0\n",
            "Cancelled             0\n",
            "Diverted              0\n",
            "Dep_Airport           0\n",
            "Dep_CityName          0\n",
            "DepTime_label         0\n",
            "Dep_Delay             0\n",
            "Dep_Delay_Tag         0\n",
            "Dep_Delay_Type        0\n",
            "Arr_Airport           0\n",
            "Arr_CityName          0\n",
            "Arr_Delay             0\n",
            "Arr_Delay_Type        0\n",
            "Flight_Duration       0\n",
            "Distance_type         0\n",
            "Delay_Carrier         0\n",
            "Delay_Weather         0\n",
            "Delay_NAS             0\n",
            "Delay_Security        0\n",
            "Delay_LastAircraft    0\n",
            "dtype: int64\n",
            "\n",
            "Valeurs manquantes - Météo :\n",
            "time          0\n",
            "tavg          0\n",
            "tmin          0\n",
            "tmax          0\n",
            "prcp          0\n",
            "snow          0\n",
            "wdir          0\n",
            "wspd          0\n",
            "pres          0\n",
            "airport_id    0\n",
            "dtype: int64\n"
          ]
        }
      ]
    },
    {
      "cell_type": "code",
      "source": [
        "# Supprimer les doublons\n",
        "airports_geolocation.drop_duplicates(inplace=True)\n",
        "cancelled_diverted_2023.drop_duplicates(inplace=True)\n",
        "weather_meteo_by_airport.drop_duplicates(inplace=True)"
      ],
      "metadata": {
        "id": "3qZJqWt_6z2s"
      },
      "execution_count": 78,
      "outputs": []
    },
    {
      "cell_type": "code",
      "source": [
        "airports_geolocation.rename(columns=lambda x: x.strip().lower().replace(' ', '_'), inplace=True)\n",
        "cancelled_diverted_2023.rename(columns=lambda x: x.strip().lower().replace(' ', '_'), inplace=True)\n",
        "weather_meteo_by_airport.rename(columns=lambda x: x.strip().lower().replace(' ', '_'), inplace=True)"
      ],
      "metadata": {
        "id": "HUV96mIR7I5j"
      },
      "execution_count": 79,
      "outputs": []
    },
    {
      "cell_type": "code",
      "source": [
        "# Sauvegarder les datasets nettoyés dans Google Drive\n",
        "\n",
        "dataset_folder = '/content/drive/My Drive/project-data-analysis/dataset'\n",
        "os.makedirs(dataset_folder, exist_ok=True)\n",
        "\n",
        "try:\n",
        "    airports_geolocation.to_csv(f'{dataset_folder}/clean_airports_geolocation.csv', index=False)\n",
        "    print(\"Données de géolocalisation sauvegardées avec succès.\")\n",
        "except Exception as e:\n",
        "    print(f\"Erreur lors de la sauvegarde de clean_airports_geolocation : {e}\")\n",
        "\n",
        "try:\n",
        "    cancelled_diverted_2023.to_csv(f'{dataset_folder}/clean_cancelled_diverted_2023.csv', index=False)\n",
        "    print(\"Données de vols annulés et détournés sauvegardées avec succès.\")\n",
        "except Exception as e:\n",
        "    print(f\"Erreur lors de la sauvegarde de clean_cancelled_diverted_2023 : {e}\")\n",
        "\n",
        "try:\n",
        "    weather_meteo_by_airport.to_csv(f'{dataset_folder}/clean_weather_meteo_by_airport.csv', index=False)\n",
        "    print(\"Données météorologiques sauvegardées avec succès.\")\n",
        "except Exception as e:\n",
        "    print(f\"Erreur lors de la sauvegarde de clean_weather_meteo_by_airport : {e}\")"
      ],
      "metadata": {
        "colab": {
          "base_uri": "https://localhost:8080/"
        },
        "id": "KfF-nWhD7STP",
        "outputId": "7c267f02-05c7-4ab4-e2ac-7f88b070f08b"
      },
      "execution_count": 88,
      "outputs": [
        {
          "output_type": "stream",
          "name": "stdout",
          "text": [
            "Données de géolocalisation sauvegardées avec succès.\n",
            "Données de vols annulés et détournés sauvegardées avec succès.\n",
            "Données météorologiques sauvegardées avec succès.\n"
          ]
        }
      ]
    },
    {
      "cell_type": "code",
      "source": [],
      "metadata": {
        "id": "H30xVb0_7WgA"
      },
      "execution_count": null,
      "outputs": []
    }
  ]
}